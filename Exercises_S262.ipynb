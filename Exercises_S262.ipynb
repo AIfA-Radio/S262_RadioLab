{
 "cells": [
  {
   "cell_type": "markdown",
   "id": "d42aa192-d6cf-443f-99a0-1e930bbcbd35",
   "metadata": {},
   "source": [
    "<h1><center>S262 Radio Astronomy Lab Exercises - Day 2 </center></h1>"
   ]
  },
  {
   "cell_type": "markdown",
   "id": "82dc86ce-8351-4a46-8136-9ff0d1db31e4",
   "metadata": {},
   "source": [
    "This notebook contains the exercises associated with the correlation, visibillity and UV coverage with the three element cantenna interferometer. Complete the code snippets given below. \n",
    "Include your results and analysis in your Lab report."
   ]
  },
  {
   "cell_type": "code",
   "execution_count": null,
   "id": "51db9372-2d73-4069-a485-559664b70f57",
   "metadata": {},
   "outputs": [],
   "source": [
    "# Import the needed packages\n",
    "\n",
    "import numpy as np\n",
    "import pandas as pd\n",
    "import ephem\n",
    "import scipy.odr as sodr\n",
    "from astropy.table import Table\n",
    "from astropy.io import fits \n",
    "import matplotlib.pyplot as plt \n",
    "import astropy.units as u"
   ]
  },
  {
   "cell_type": "markdown",
   "id": "fea604ef-453a-4074-b6f5-bc5f4bc35d9c",
   "metadata": {},
   "source": [
    "***"
   ]
  },
  {
   "cell_type": "markdown",
   "id": "d9e618cd-93d8-4666-bce3-050968317a34",
   "metadata": {},
   "source": [
    "### 0. Exploring the preprocessed data"
   ]
  },
  {
   "cell_type": "markdown",
   "id": "b308ee83-f36a-43d8-b876-7a1d75602c69",
   "metadata": {},
   "source": [
    "***"
   ]
  },
  {
   "cell_type": "markdown",
   "id": "7fd39ed9-74e4-4ede-ac12-479922ada665",
   "metadata": {},
   "source": [
    "#### Task 1 : Open the .fits file containing the preprocessed data. Explore the file headers, and data itself. Familiarize yourself with all the quantitites present in the data.    "
   ]
  },
  {
   "cell_type": "code",
   "execution_count": null,
   "id": "02cfb646-af66-45ef-8f1b-ac4395a13374",
   "metadata": {},
   "outputs": [],
   "source": [
    "scan_number = 'your_scan'\n",
    "filename = f'./Data/Processed_{scan_number}.fits'\n",
    "hdul = fits.open(filename)"
   ]
  },
  {
   "cell_type": "code",
   "execution_count": null,
   "id": "285d3560-a72f-40a3-9516-30b1db7815f7",
   "metadata": {},
   "outputs": [],
   "source": [
    "hdul.info()"
   ]
  },
  {
   "cell_type": "code",
   "execution_count": null,
   "id": "4887d4a3-5847-49ff-9ea6-1b54ff6cdb67",
   "metadata": {},
   "outputs": [],
   "source": [
    "hdul[1].header"
   ]
  },
  {
   "cell_type": "code",
   "execution_count": null,
   "id": "183c2db4-68a6-43f6-a26c-2ee09fe33f6b",
   "metadata": {},
   "outputs": [],
   "source": [
    "hdul[1].header['OBS_DAY']"
   ]
  },
  {
   "cell_type": "code",
   "execution_count": null,
   "id": "98bea179-0acb-4fe7-9d88-c9e0eaebebfb",
   "metadata": {},
   "outputs": [],
   "source": [
    "hdul[1].data['Time_resampled']"
   ]
  },
  {
   "cell_type": "markdown",
   "id": "bbf5fecd-6856-4e90-95cc-fc93432f7cfe",
   "metadata": {},
   "source": [
    "***"
   ]
  },
  {
   "cell_type": "markdown",
   "id": "17e0b3a9-cef9-4aea-879e-6d1b64a8c726",
   "metadata": {},
   "source": [
    "### 1. Correlation and Visibillities"
   ]
  },
  {
   "cell_type": "markdown",
   "id": "c6f49a49-8471-443a-a62a-e8b7222903ba",
   "metadata": {},
   "source": [
    "***"
   ]
  },
  {
   "cell_type": "markdown",
   "id": "e2b64edc-36f5-4446-9d71-6943bc673599",
   "metadata": {},
   "source": [
    "### Ex. 2.10 : Analyzing single channel power"
   ]
  },
  {
   "cell_type": "markdown",
   "id": "db706542-e9ce-4eb9-ad3a-6040888845ad",
   "metadata": {},
   "source": [
    "#### Task 1 : Read the preprocessed data in the .fits file. \n",
    "#### Plot the single channel power data for each antenna as a function of time. On the same plot, show the sunrise and sunset times as well as the morning and evening twilight times."
   ]
  },
  {
   "cell_type": "code",
   "execution_count": null,
   "id": "8a770d7e-2af9-4d59-8fff-789a0fa533b2",
   "metadata": {},
   "outputs": [],
   "source": [
    "\n"
   ]
  },
  {
   "cell_type": "markdown",
   "id": "e9589267-d5fa-49c8-993d-25a94d0f00c9",
   "metadata": {},
   "source": [
    "#### Task 2: Plot the calibrated antenna temperature data for each antenna and calculate HPBW in hours for each antenna. _Hint: Fit a Gaussian profile to the data and calculate the HPBW_"
   ]
  },
  {
   "cell_type": "code",
   "execution_count": null,
   "id": "bf463f35-166b-4f3c-82e6-e18db2aabfde",
   "metadata": {},
   "outputs": [],
   "source": []
  },
  {
   "cell_type": "markdown",
   "id": "9463a157-78b7-4beb-bcfe-ab147a301423",
   "metadata": {},
   "source": [
    "#### Task 3 (Theoretical) :What do you infer from the above plots?"
   ]
  },
  {
   "cell_type": "markdown",
   "id": "de13527e-277e-44ba-86ed-abcc82965698",
   "metadata": {},
   "source": [
    "### Ex. 2.10 Analyzing Correlation Data for three baselines:"
   ]
  },
  {
   "cell_type": "markdown",
   "id": "25a2db02-cdf6-4b8a-ade7-d17570390f44",
   "metadata": {},
   "source": [
    "#### Task 1: Plot the real and imaginary parts of the correlation data for each baseline as a function of time. On the same plot, show the sunrise, sunset and twilight times."
   ]
  },
  {
   "cell_type": "code",
   "execution_count": null,
   "id": "03c48e47-a231-457c-b822-c42c37b97db9",
   "metadata": {},
   "outputs": [],
   "source": []
  },
  {
   "cell_type": "markdown",
   "id": "0bc06a75-abae-44de-9cd3-7ab83480434a",
   "metadata": {},
   "source": [
    "#### Task 2 (Theoretical): Compare the correlation data for the three baselines from the above plot. What do you observe?"
   ]
  },
  {
   "cell_type": "code",
   "execution_count": null,
   "id": "bb2d8d00-c29a-41ab-af05-66d141ac61e4",
   "metadata": {},
   "outputs": [],
   "source": []
  },
  {
   "cell_type": "markdown",
   "id": "5ec6082b-8eb9-4783-a573-86f252a22147",
   "metadata": {},
   "source": [
    "#### Task 3: Use the night-time data to calculate the RMS error in correlation data for each baseline."
   ]
  },
  {
   "cell_type": "code",
   "execution_count": null,
   "id": "eee5c0ab-f2d0-4cf2-a838-b197648930ed",
   "metadata": {},
   "outputs": [],
   "source": []
  },
  {
   "cell_type": "markdown",
   "id": "12434c42-242c-49af-941a-1a6a9a03159a",
   "metadata": {},
   "source": [
    "#### Task 4 (Theoretical): Estimate the baseline length required to resolve the radio sun. Is the current set-up sufficient to resolve the radio sun?"
   ]
  },
  {
   "cell_type": "markdown",
   "id": "8ed11252-3d86-4522-8213-6f6a84cb6314",
   "metadata": {},
   "source": [
    "### Ex. 2.12 Computing the Complex visibillities:"
   ]
  },
  {
   "cell_type": "markdown",
   "id": "4d6ec8ff-188a-4b25-8cb2-a10f8e2145e4",
   "metadata": {},
   "source": [
    "#### Task 1 (Theoretical): Explain Complex Visibilities in the context of a three-element interferometer."
   ]
  },
  {
   "cell_type": "markdown",
   "id": "839c5548-3cdc-4c9c-a251-5aea8f94a2ba",
   "metadata": {},
   "source": [
    "#### Task 2 :  Write a function to obtain complex visibilities (amplitude, phase) for each of the baselines ``WM'', ``EM'', ``EW'' from the real and imaginary parts in the correlation data. \n",
    "#### Plot the visibility amplitude and phase for each of the 3 baselines as a function of time. On the plots, show the sunrise, sunset and twilight times."
   ]
  },
  {
   "cell_type": "code",
   "execution_count": null,
   "id": "b51bfea5-c2fd-46f3-a9a0-8dadd548ff9d",
   "metadata": {},
   "outputs": [],
   "source": []
  },
  {
   "cell_type": "markdown",
   "id": "2aa9e98c-7116-406b-82a3-810b99cad7b3",
   "metadata": {},
   "source": [
    "#### Task 3 (Theoretical) :Analyze the above plots and discuss the variations observed between daytime and nighttime data.\n",
    "                               "
   ]
  },
  {
   "cell_type": "code",
   "execution_count": null,
   "id": "1b09220b-144c-4da4-ae8f-a61cee6e0544",
   "metadata": {},
   "outputs": [],
   "source": []
  },
  {
   "cell_type": "markdown",
   "id": "03f68ca0-22c3-48bf-a858-dec67e72222b",
   "metadata": {},
   "source": [
    "***"
   ]
  },
  {
   "cell_type": "markdown",
   "id": "080ca500-b809-4776-a2df-9fd7abd7417b",
   "metadata": {},
   "source": [
    "## 2. The UV coverage\n",
    "\n"
   ]
  },
  {
   "cell_type": "markdown",
   "id": "5511ba0f-1011-438c-b21c-54ea458fdbb2",
   "metadata": {},
   "source": [
    "***"
   ]
  },
  {
   "cell_type": "markdown",
   "id": "ef356095-bce1-4436-a2b7-dbb6305200cd",
   "metadata": {},
   "source": [
    "####  Ex. 2.13: Write a function to compute the hour angle and declination of the sun as for the observation day. Plot the variation in HA and Dec throughout the day _(Hint : Use the Python ephem module)_"
   ]
  },
  {
   "cell_type": "code",
   "execution_count": null,
   "id": "d4ca4680-e686-4d28-b7b0-b9e9db0cb01a",
   "metadata": {},
   "outputs": [],
   "source": [
    "# You may use the following helper function : \n",
    "def get_sec(time_str):\n",
    "    '''\n",
    "    Converts a time string (HH:MM:SS) into fractional hours.\n",
    "\n",
    "    input: time string in format 00:00:00\n",
    "    split time string into hours(h), minutes(m) and seconds(s)\n",
    "    output: converted fractional time\n",
    "    '''\n",
    "    h,m,s = time_str.split(':')\n",
    "    return (float(h)*3600+float(m)*60+float(s))/3600"
   ]
  },
  {
   "cell_type": "code",
   "execution_count": null,
   "id": "e8e16188-43ac-4e09-9391-46f6d92ddba0",
   "metadata": {},
   "outputs": [],
   "source": []
  },
  {
   "cell_type": "markdown",
   "id": "e0c1f8a9-0ddb-4a77-8573-6d7c73f9080f",
   "metadata": {},
   "source": [
    "#### Ex 2.14: Write a function to compute the UV coverage of the interferometer on the given observation day. The psuedocode for this function can be thought as :\n",
    "#### 1.Compute the baseline lengths  \n",
    "#### 2.Compute the angular offsets of baseline with respect to a) zenith (XY plane) and b) horizon (YZ plane)\n",
    "#### 3.Use the HA, dec and offset information to perform a coordinate transform from XYZ to UVW plane "
   ]
  },
  {
   "cell_type": "code",
   "execution_count": null,
   "id": "99342a3e-5048-4aa8-ba37-484c4041692a",
   "metadata": {},
   "outputs": [],
   "source": [
    "#The baseline coordinates are:\n",
    "b_x = np.array([0, 7.9, 9.9])  # Baseline x component (m)\n",
    "b_y = np.array([0,0,0]) # Baseline y component (m)"
   ]
  },
  {
   "cell_type": "markdown",
   "id": "4356b141-ff68-4d5e-b3fb-8f8eeae75bf9",
   "metadata": {},
   "source": [
    "#### Ex 2.15: Plot the UV coverage. Write a function to plot the maximum recoverable scale. Comment on how a larger UV coverage can be used to measure a more complete information.     "
   ]
  },
  {
   "cell_type": "code",
   "execution_count": null,
   "id": "2171108a-adae-40fe-ba37-04e37483266d",
   "metadata": {},
   "outputs": [],
   "source": []
  }
 ],
 "metadata": {
  "kernelspec": {
   "display_name": "Python 3 (ipykernel)",
   "language": "python",
   "name": "python3"
  },
  "language_info": {
   "codemirror_mode": {
    "name": "ipython",
    "version": 3
   },
   "file_extension": ".py",
   "mimetype": "text/x-python",
   "name": "python",
   "nbconvert_exporter": "python",
   "pygments_lexer": "ipython3",
   "version": "3.11.11"
  }
 },
 "nbformat": 4,
 "nbformat_minor": 5
}
